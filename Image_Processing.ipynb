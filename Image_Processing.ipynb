{
  "nbformat": 4,
  "nbformat_minor": 0,
  "metadata": {
    "colab": {
      "name": "Untitled3.ipynb",
      "version": "0.3.2",
      "provenance": [],
      "include_colab_link": true
    },
    "kernelspec": {
      "name": "python3",
      "display_name": "Python 3"
    }
  },
  "cells": [
    {
      "cell_type": "markdown",
      "metadata": {
        "id": "view-in-github",
        "colab_type": "text"
      },
      "source": [
        "<a href=\"https://colab.research.google.com/github/edgsal79/TFM-IA/blob/master/Image_Processing.ipynb\" target=\"_parent\"><img src=\"https://colab.research.google.com/assets/colab-badge.svg\" alt=\"Open In Colab\"/></a>"
      ]
    },
    {
      "cell_type": "code",
      "metadata": {
        "id": "yocbCthqthRy",
        "colab_type": "code",
        "colab": {}
      },
      "source": [
        "import os\n",
        "import io\n",
        "\n",
        "import numpy as np\n",
        "import cv2\n",
        "import glob"
      ],
      "execution_count": 0,
      "outputs": []
    },
    {
      "cell_type": "code",
      "metadata": {
        "id": "eIOH7w27tmwd",
        "colab_type": "code",
        "colab": {}
      },
      "source": [
        "data_path = './Seats_images'\n",
        "\n",
        "data = []\n",
        "\n",
        "folder = glob.glob (data_path +'/*.jpg')\n",
        "\n",
        "for file in folder:\n",
        "    img = cv2.imread (file)\n",
        "    data.append (img)\n",
        "\n",
        "print('array shape:', np.array(data).shape)"
      ],
      "execution_count": 0,
      "outputs": []
    },
    {
      "cell_type": "code",
      "metadata": {
        "id": "2fAPMTngtvtB",
        "colab_type": "code",
        "colab": {}
      },
      "source": [
        "# Convertir imagenes a escala de grises\n",
        "\n",
        "from skimage import filters, color\n",
        "\n",
        "data_gry = []\n",
        "\n",
        "for i in range(len(data)):\n",
        "    data_gry.append(color.rgb2gray(data[i]))\n",
        "\n",
        "print(data_gry)"
      ],
      "execution_count": 0,
      "outputs": []
    }
  ]
}